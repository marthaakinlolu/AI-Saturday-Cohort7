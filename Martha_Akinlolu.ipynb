{
 "cells": [
  {
   "cell_type": "markdown",
   "metadata": {},
   "source": [
    "# Book Recommendations Dataset"
   ]
  },
  {
   "cell_type": "markdown",
   "metadata": {},
   "source": [
    "This notebook uses the [Book Recommendations](https://www.kaggle.com/arashnic/book-recommendation-dataset) dataset available on Kaggle. "
   ]
  },
  {
   "cell_type": "markdown",
   "metadata": {},
   "source": [
    "## Imports"
   ]
  },
  {
   "cell_type": "code",
   "execution_count": 143,
   "metadata": {},
   "outputs": [],
   "source": [
    "# TODO: Import any other modules you need\n",
    "import pandas as pd\n",
    "import numpy as np\n",
    "import statistics \n",
    "from datetime import datetime\n",
    "import matplotlib.pyplot as plt"
   ]
  },
  {
   "cell_type": "code",
   "execution_count": 94,
   "metadata": {},
   "outputs": [
    {
     "name": "stderr",
     "output_type": "stream",
     "text": [
      "c:\\Users\\martha\\Documents\\cohort7\\cohort7_practicals\\2_Webscraping_and_Data_Labelling\\webscraping_env\\lib\\site-packages\\IPython\\core\\interactiveshell.py:3444: DtypeWarning: Columns (3) have mixed types.Specify dtype option on import or set low_memory=False.\n",
      "  exec(code_obj, self.user_global_ns, self.user_ns)\n"
     ]
    },
    {
     "data": {
      "text/html": [
       "<div>\n",
       "<style scoped>\n",
       "    .dataframe tbody tr th:only-of-type {\n",
       "        vertical-align: middle;\n",
       "    }\n",
       "\n",
       "    .dataframe tbody tr th {\n",
       "        vertical-align: top;\n",
       "    }\n",
       "\n",
       "    .dataframe thead th {\n",
       "        text-align: right;\n",
       "    }\n",
       "</style>\n",
       "<table border=\"1\" class=\"dataframe\">\n",
       "  <thead>\n",
       "    <tr style=\"text-align: right;\">\n",
       "      <th></th>\n",
       "      <th>ISBN</th>\n",
       "      <th>Book-Title</th>\n",
       "      <th>Book-Author</th>\n",
       "      <th>Year-Of-Publication</th>\n",
       "      <th>Publisher</th>\n",
       "      <th>Image-URL-S</th>\n",
       "      <th>Image-URL-M</th>\n",
       "      <th>Image-URL-L</th>\n",
       "    </tr>\n",
       "  </thead>\n",
       "  <tbody>\n",
       "    <tr>\n",
       "      <th>0</th>\n",
       "      <td>0195153448</td>\n",
       "      <td>Classical Mythology</td>\n",
       "      <td>Mark P. O. Morford</td>\n",
       "      <td>2002</td>\n",
       "      <td>Oxford University Press</td>\n",
       "      <td>http://images.amazon.com/images/P/0195153448.0...</td>\n",
       "      <td>http://images.amazon.com/images/P/0195153448.0...</td>\n",
       "      <td>http://images.amazon.com/images/P/0195153448.0...</td>\n",
       "    </tr>\n",
       "    <tr>\n",
       "      <th>1</th>\n",
       "      <td>0002005018</td>\n",
       "      <td>Clara Callan</td>\n",
       "      <td>Richard Bruce Wright</td>\n",
       "      <td>2001</td>\n",
       "      <td>HarperFlamingo Canada</td>\n",
       "      <td>http://images.amazon.com/images/P/0002005018.0...</td>\n",
       "      <td>http://images.amazon.com/images/P/0002005018.0...</td>\n",
       "      <td>http://images.amazon.com/images/P/0002005018.0...</td>\n",
       "    </tr>\n",
       "    <tr>\n",
       "      <th>2</th>\n",
       "      <td>0060973129</td>\n",
       "      <td>Decision in Normandy</td>\n",
       "      <td>Carlo D'Este</td>\n",
       "      <td>1991</td>\n",
       "      <td>HarperPerennial</td>\n",
       "      <td>http://images.amazon.com/images/P/0060973129.0...</td>\n",
       "      <td>http://images.amazon.com/images/P/0060973129.0...</td>\n",
       "      <td>http://images.amazon.com/images/P/0060973129.0...</td>\n",
       "    </tr>\n",
       "    <tr>\n",
       "      <th>3</th>\n",
       "      <td>0374157065</td>\n",
       "      <td>Flu: The Story of the Great Influenza Pandemic...</td>\n",
       "      <td>Gina Bari Kolata</td>\n",
       "      <td>1999</td>\n",
       "      <td>Farrar Straus Giroux</td>\n",
       "      <td>http://images.amazon.com/images/P/0374157065.0...</td>\n",
       "      <td>http://images.amazon.com/images/P/0374157065.0...</td>\n",
       "      <td>http://images.amazon.com/images/P/0374157065.0...</td>\n",
       "    </tr>\n",
       "    <tr>\n",
       "      <th>4</th>\n",
       "      <td>0393045218</td>\n",
       "      <td>The Mummies of Urumchi</td>\n",
       "      <td>E. J. W. Barber</td>\n",
       "      <td>1999</td>\n",
       "      <td>W. W. Norton &amp;amp; Company</td>\n",
       "      <td>http://images.amazon.com/images/P/0393045218.0...</td>\n",
       "      <td>http://images.amazon.com/images/P/0393045218.0...</td>\n",
       "      <td>http://images.amazon.com/images/P/0393045218.0...</td>\n",
       "    </tr>\n",
       "  </tbody>\n",
       "</table>\n",
       "</div>"
      ],
      "text/plain": [
       "         ISBN                                         Book-Title  \\\n",
       "0  0195153448                                Classical Mythology   \n",
       "1  0002005018                                       Clara Callan   \n",
       "2  0060973129                               Decision in Normandy   \n",
       "3  0374157065  Flu: The Story of the Great Influenza Pandemic...   \n",
       "4  0393045218                             The Mummies of Urumchi   \n",
       "\n",
       "            Book-Author Year-Of-Publication                   Publisher  \\\n",
       "0    Mark P. O. Morford                2002     Oxford University Press   \n",
       "1  Richard Bruce Wright                2001       HarperFlamingo Canada   \n",
       "2          Carlo D'Este                1991             HarperPerennial   \n",
       "3      Gina Bari Kolata                1999        Farrar Straus Giroux   \n",
       "4       E. J. W. Barber                1999  W. W. Norton &amp; Company   \n",
       "\n",
       "                                         Image-URL-S  \\\n",
       "0  http://images.amazon.com/images/P/0195153448.0...   \n",
       "1  http://images.amazon.com/images/P/0002005018.0...   \n",
       "2  http://images.amazon.com/images/P/0060973129.0...   \n",
       "3  http://images.amazon.com/images/P/0374157065.0...   \n",
       "4  http://images.amazon.com/images/P/0393045218.0...   \n",
       "\n",
       "                                         Image-URL-M  \\\n",
       "0  http://images.amazon.com/images/P/0195153448.0...   \n",
       "1  http://images.amazon.com/images/P/0002005018.0...   \n",
       "2  http://images.amazon.com/images/P/0060973129.0...   \n",
       "3  http://images.amazon.com/images/P/0374157065.0...   \n",
       "4  http://images.amazon.com/images/P/0393045218.0...   \n",
       "\n",
       "                                         Image-URL-L  \n",
       "0  http://images.amazon.com/images/P/0195153448.0...  \n",
       "1  http://images.amazon.com/images/P/0002005018.0...  \n",
       "2  http://images.amazon.com/images/P/0060973129.0...  \n",
       "3  http://images.amazon.com/images/P/0374157065.0...  \n",
       "4  http://images.amazon.com/images/P/0393045218.0...  "
      ]
     },
     "execution_count": 94,
     "metadata": {},
     "output_type": "execute_result"
    }
   ],
   "source": [
    "# TODO: Read Books.csv, Ratings.csv and Users.csv into similary named dataframes\n",
    "books = pd.read_csv('C:\\\\Users\\\\martha\\\\Downloads\\\\archive\\\\Books.csv')\n",
    "books.head()"
   ]
  },
  {
   "cell_type": "code",
   "execution_count": 95,
   "metadata": {},
   "outputs": [
    {
     "data": {
      "text/html": [
       "<div>\n",
       "<style scoped>\n",
       "    .dataframe tbody tr th:only-of-type {\n",
       "        vertical-align: middle;\n",
       "    }\n",
       "\n",
       "    .dataframe tbody tr th {\n",
       "        vertical-align: top;\n",
       "    }\n",
       "\n",
       "    .dataframe thead th {\n",
       "        text-align: right;\n",
       "    }\n",
       "</style>\n",
       "<table border=\"1\" class=\"dataframe\">\n",
       "  <thead>\n",
       "    <tr style=\"text-align: right;\">\n",
       "      <th></th>\n",
       "      <th>User-ID</th>\n",
       "      <th>ISBN</th>\n",
       "      <th>Book-Rating</th>\n",
       "    </tr>\n",
       "  </thead>\n",
       "  <tbody>\n",
       "    <tr>\n",
       "      <th>0</th>\n",
       "      <td>276725</td>\n",
       "      <td>034545104X</td>\n",
       "      <td>0</td>\n",
       "    </tr>\n",
       "    <tr>\n",
       "      <th>1</th>\n",
       "      <td>276726</td>\n",
       "      <td>0155061224</td>\n",
       "      <td>5</td>\n",
       "    </tr>\n",
       "    <tr>\n",
       "      <th>2</th>\n",
       "      <td>276727</td>\n",
       "      <td>0446520802</td>\n",
       "      <td>0</td>\n",
       "    </tr>\n",
       "    <tr>\n",
       "      <th>3</th>\n",
       "      <td>276729</td>\n",
       "      <td>052165615X</td>\n",
       "      <td>3</td>\n",
       "    </tr>\n",
       "    <tr>\n",
       "      <th>4</th>\n",
       "      <td>276729</td>\n",
       "      <td>0521795028</td>\n",
       "      <td>6</td>\n",
       "    </tr>\n",
       "  </tbody>\n",
       "</table>\n",
       "</div>"
      ],
      "text/plain": [
       "   User-ID        ISBN  Book-Rating\n",
       "0   276725  034545104X            0\n",
       "1   276726  0155061224            5\n",
       "2   276727  0446520802            0\n",
       "3   276729  052165615X            3\n",
       "4   276729  0521795028            6"
      ]
     },
     "execution_count": 95,
     "metadata": {},
     "output_type": "execute_result"
    }
   ],
   "source": [
    "ratings = pd.read_csv('C:\\\\Users\\\\martha\\\\Downloads\\\\archive\\\\Ratings.csv')\n",
    "ratings.head()"
   ]
  },
  {
   "cell_type": "code",
   "execution_count": 96,
   "metadata": {},
   "outputs": [
    {
     "data": {
      "text/html": [
       "<div>\n",
       "<style scoped>\n",
       "    .dataframe tbody tr th:only-of-type {\n",
       "        vertical-align: middle;\n",
       "    }\n",
       "\n",
       "    .dataframe tbody tr th {\n",
       "        vertical-align: top;\n",
       "    }\n",
       "\n",
       "    .dataframe thead th {\n",
       "        text-align: right;\n",
       "    }\n",
       "</style>\n",
       "<table border=\"1\" class=\"dataframe\">\n",
       "  <thead>\n",
       "    <tr style=\"text-align: right;\">\n",
       "      <th></th>\n",
       "      <th>User-ID</th>\n",
       "      <th>Location</th>\n",
       "      <th>Age</th>\n",
       "    </tr>\n",
       "  </thead>\n",
       "  <tbody>\n",
       "    <tr>\n",
       "      <th>0</th>\n",
       "      <td>1</td>\n",
       "      <td>nyc, new york, usa</td>\n",
       "      <td>NaN</td>\n",
       "    </tr>\n",
       "    <tr>\n",
       "      <th>1</th>\n",
       "      <td>2</td>\n",
       "      <td>stockton, california, usa</td>\n",
       "      <td>18.0</td>\n",
       "    </tr>\n",
       "    <tr>\n",
       "      <th>2</th>\n",
       "      <td>3</td>\n",
       "      <td>moscow, yukon territory, russia</td>\n",
       "      <td>NaN</td>\n",
       "    </tr>\n",
       "    <tr>\n",
       "      <th>3</th>\n",
       "      <td>4</td>\n",
       "      <td>porto, v.n.gaia, portugal</td>\n",
       "      <td>17.0</td>\n",
       "    </tr>\n",
       "    <tr>\n",
       "      <th>4</th>\n",
       "      <td>5</td>\n",
       "      <td>farnborough, hants, united kingdom</td>\n",
       "      <td>NaN</td>\n",
       "    </tr>\n",
       "  </tbody>\n",
       "</table>\n",
       "</div>"
      ],
      "text/plain": [
       "   User-ID                            Location   Age\n",
       "0        1                  nyc, new york, usa   NaN\n",
       "1        2           stockton, california, usa  18.0\n",
       "2        3     moscow, yukon territory, russia   NaN\n",
       "3        4           porto, v.n.gaia, portugal  17.0\n",
       "4        5  farnborough, hants, united kingdom   NaN"
      ]
     },
     "execution_count": 96,
     "metadata": {},
     "output_type": "execute_result"
    }
   ],
   "source": [
    "users = pd.read_csv('C:\\\\Users\\\\martha\\\\Downloads\\\\archive\\\\Users.csv')\n",
    "users.head()"
   ]
  },
  {
   "cell_type": "markdown",
   "metadata": {},
   "source": [
    "## Exploratory Data Analysis (EDA)"
   ]
  },
  {
   "cell_type": "markdown",
   "metadata": {},
   "source": [
    "### TODO: \n",
    "* Use the `describe` and `info` methods on each of your dataframes. \n",
    "* Check the `dtypes` for the columns in each dataframe.\n",
    "* Check for missing values in each dataframe\n",
    "* Check for any other operations commonly used during EDA and perform it here"
   ]
  },
  {
   "cell_type": "code",
   "execution_count": 97,
   "metadata": {},
   "outputs": [
    {
     "data": {
      "text/html": [
       "<div>\n",
       "<style scoped>\n",
       "    .dataframe tbody tr th:only-of-type {\n",
       "        vertical-align: middle;\n",
       "    }\n",
       "\n",
       "    .dataframe tbody tr th {\n",
       "        vertical-align: top;\n",
       "    }\n",
       "\n",
       "    .dataframe thead th {\n",
       "        text-align: right;\n",
       "    }\n",
       "</style>\n",
       "<table border=\"1\" class=\"dataframe\">\n",
       "  <thead>\n",
       "    <tr style=\"text-align: right;\">\n",
       "      <th></th>\n",
       "      <th>ISBN</th>\n",
       "      <th>Book-Title</th>\n",
       "      <th>Book-Author</th>\n",
       "      <th>Year-Of-Publication</th>\n",
       "      <th>Publisher</th>\n",
       "      <th>Image-URL-S</th>\n",
       "      <th>Image-URL-M</th>\n",
       "      <th>Image-URL-L</th>\n",
       "    </tr>\n",
       "  </thead>\n",
       "  <tbody>\n",
       "    <tr>\n",
       "      <th>count</th>\n",
       "      <td>271360</td>\n",
       "      <td>271360</td>\n",
       "      <td>271359</td>\n",
       "      <td>271360</td>\n",
       "      <td>271358</td>\n",
       "      <td>271360</td>\n",
       "      <td>271360</td>\n",
       "      <td>271357</td>\n",
       "    </tr>\n",
       "    <tr>\n",
       "      <th>unique</th>\n",
       "      <td>271360</td>\n",
       "      <td>242135</td>\n",
       "      <td>102023</td>\n",
       "      <td>202</td>\n",
       "      <td>16807</td>\n",
       "      <td>271044</td>\n",
       "      <td>271044</td>\n",
       "      <td>271041</td>\n",
       "    </tr>\n",
       "    <tr>\n",
       "      <th>top</th>\n",
       "      <td>0195153448</td>\n",
       "      <td>Selected Poems</td>\n",
       "      <td>Agatha Christie</td>\n",
       "      <td>2002</td>\n",
       "      <td>Harlequin</td>\n",
       "      <td>http://images.amazon.com/images/P/185326119X.0...</td>\n",
       "      <td>http://images.amazon.com/images/P/185326119X.0...</td>\n",
       "      <td>http://images.amazon.com/images/P/225307649X.0...</td>\n",
       "    </tr>\n",
       "    <tr>\n",
       "      <th>freq</th>\n",
       "      <td>1</td>\n",
       "      <td>27</td>\n",
       "      <td>632</td>\n",
       "      <td>13903</td>\n",
       "      <td>7535</td>\n",
       "      <td>2</td>\n",
       "      <td>2</td>\n",
       "      <td>2</td>\n",
       "    </tr>\n",
       "  </tbody>\n",
       "</table>\n",
       "</div>"
      ],
      "text/plain": [
       "              ISBN      Book-Title      Book-Author  Year-Of-Publication  \\\n",
       "count       271360          271360           271359               271360   \n",
       "unique      271360          242135           102023                  202   \n",
       "top     0195153448  Selected Poems  Agatha Christie                 2002   \n",
       "freq             1              27              632                13903   \n",
       "\n",
       "        Publisher                                        Image-URL-S  \\\n",
       "count      271358                                             271360   \n",
       "unique      16807                                             271044   \n",
       "top     Harlequin  http://images.amazon.com/images/P/185326119X.0...   \n",
       "freq         7535                                                  2   \n",
       "\n",
       "                                              Image-URL-M  \\\n",
       "count                                              271360   \n",
       "unique                                             271044   \n",
       "top     http://images.amazon.com/images/P/185326119X.0...   \n",
       "freq                                                    2   \n",
       "\n",
       "                                              Image-URL-L  \n",
       "count                                              271357  \n",
       "unique                                             271041  \n",
       "top     http://images.amazon.com/images/P/225307649X.0...  \n",
       "freq                                                    2  "
      ]
     },
     "execution_count": 97,
     "metadata": {},
     "output_type": "execute_result"
    }
   ],
   "source": [
    "books.describe()"
   ]
  },
  {
   "cell_type": "code",
   "execution_count": 98,
   "metadata": {},
   "outputs": [
    {
     "name": "stdout",
     "output_type": "stream",
     "text": [
      "<class 'pandas.core.frame.DataFrame'>\n",
      "RangeIndex: 271360 entries, 0 to 271359\n",
      "Data columns (total 8 columns):\n",
      " #   Column               Non-Null Count   Dtype \n",
      "---  ------               --------------   ----- \n",
      " 0   ISBN                 271360 non-null  object\n",
      " 1   Book-Title           271360 non-null  object\n",
      " 2   Book-Author          271359 non-null  object\n",
      " 3   Year-Of-Publication  271360 non-null  object\n",
      " 4   Publisher            271358 non-null  object\n",
      " 5   Image-URL-S          271360 non-null  object\n",
      " 6   Image-URL-M          271360 non-null  object\n",
      " 7   Image-URL-L          271357 non-null  object\n",
      "dtypes: object(8)\n",
      "memory usage: 16.6+ MB\n"
     ]
    }
   ],
   "source": [
    "books.info()"
   ]
  },
  {
   "cell_type": "code",
   "execution_count": 99,
   "metadata": {},
   "outputs": [
    {
     "data": {
      "text/html": [
       "<div>\n",
       "<style scoped>\n",
       "    .dataframe tbody tr th:only-of-type {\n",
       "        vertical-align: middle;\n",
       "    }\n",
       "\n",
       "    .dataframe tbody tr th {\n",
       "        vertical-align: top;\n",
       "    }\n",
       "\n",
       "    .dataframe thead th {\n",
       "        text-align: right;\n",
       "    }\n",
       "</style>\n",
       "<table border=\"1\" class=\"dataframe\">\n",
       "  <thead>\n",
       "    <tr style=\"text-align: right;\">\n",
       "      <th></th>\n",
       "      <th>User-ID</th>\n",
       "      <th>Book-Rating</th>\n",
       "    </tr>\n",
       "  </thead>\n",
       "  <tbody>\n",
       "    <tr>\n",
       "      <th>count</th>\n",
       "      <td>1.149780e+06</td>\n",
       "      <td>1.149780e+06</td>\n",
       "    </tr>\n",
       "    <tr>\n",
       "      <th>mean</th>\n",
       "      <td>1.403864e+05</td>\n",
       "      <td>2.866950e+00</td>\n",
       "    </tr>\n",
       "    <tr>\n",
       "      <th>std</th>\n",
       "      <td>8.056228e+04</td>\n",
       "      <td>3.854184e+00</td>\n",
       "    </tr>\n",
       "    <tr>\n",
       "      <th>min</th>\n",
       "      <td>2.000000e+00</td>\n",
       "      <td>0.000000e+00</td>\n",
       "    </tr>\n",
       "    <tr>\n",
       "      <th>25%</th>\n",
       "      <td>7.034500e+04</td>\n",
       "      <td>0.000000e+00</td>\n",
       "    </tr>\n",
       "    <tr>\n",
       "      <th>50%</th>\n",
       "      <td>1.410100e+05</td>\n",
       "      <td>0.000000e+00</td>\n",
       "    </tr>\n",
       "    <tr>\n",
       "      <th>75%</th>\n",
       "      <td>2.110280e+05</td>\n",
       "      <td>7.000000e+00</td>\n",
       "    </tr>\n",
       "    <tr>\n",
       "      <th>max</th>\n",
       "      <td>2.788540e+05</td>\n",
       "      <td>1.000000e+01</td>\n",
       "    </tr>\n",
       "  </tbody>\n",
       "</table>\n",
       "</div>"
      ],
      "text/plain": [
       "            User-ID   Book-Rating\n",
       "count  1.149780e+06  1.149780e+06\n",
       "mean   1.403864e+05  2.866950e+00\n",
       "std    8.056228e+04  3.854184e+00\n",
       "min    2.000000e+00  0.000000e+00\n",
       "25%    7.034500e+04  0.000000e+00\n",
       "50%    1.410100e+05  0.000000e+00\n",
       "75%    2.110280e+05  7.000000e+00\n",
       "max    2.788540e+05  1.000000e+01"
      ]
     },
     "execution_count": 99,
     "metadata": {},
     "output_type": "execute_result"
    }
   ],
   "source": [
    "ratings.describe()"
   ]
  },
  {
   "cell_type": "code",
   "execution_count": 100,
   "metadata": {},
   "outputs": [
    {
     "name": "stdout",
     "output_type": "stream",
     "text": [
      "<class 'pandas.core.frame.DataFrame'>\n",
      "RangeIndex: 1149780 entries, 0 to 1149779\n",
      "Data columns (total 3 columns):\n",
      " #   Column       Non-Null Count    Dtype \n",
      "---  ------       --------------    ----- \n",
      " 0   User-ID      1149780 non-null  int64 \n",
      " 1   ISBN         1149780 non-null  object\n",
      " 2   Book-Rating  1149780 non-null  int64 \n",
      "dtypes: int64(2), object(1)\n",
      "memory usage: 26.3+ MB\n"
     ]
    }
   ],
   "source": [
    "ratings.info()"
   ]
  },
  {
   "cell_type": "code",
   "execution_count": 101,
   "metadata": {},
   "outputs": [
    {
     "data": {
      "text/html": [
       "<div>\n",
       "<style scoped>\n",
       "    .dataframe tbody tr th:only-of-type {\n",
       "        vertical-align: middle;\n",
       "    }\n",
       "\n",
       "    .dataframe tbody tr th {\n",
       "        vertical-align: top;\n",
       "    }\n",
       "\n",
       "    .dataframe thead th {\n",
       "        text-align: right;\n",
       "    }\n",
       "</style>\n",
       "<table border=\"1\" class=\"dataframe\">\n",
       "  <thead>\n",
       "    <tr style=\"text-align: right;\">\n",
       "      <th></th>\n",
       "      <th>User-ID</th>\n",
       "      <th>Age</th>\n",
       "    </tr>\n",
       "  </thead>\n",
       "  <tbody>\n",
       "    <tr>\n",
       "      <th>count</th>\n",
       "      <td>278858.00000</td>\n",
       "      <td>168096.000000</td>\n",
       "    </tr>\n",
       "    <tr>\n",
       "      <th>mean</th>\n",
       "      <td>139429.50000</td>\n",
       "      <td>34.751434</td>\n",
       "    </tr>\n",
       "    <tr>\n",
       "      <th>std</th>\n",
       "      <td>80499.51502</td>\n",
       "      <td>14.428097</td>\n",
       "    </tr>\n",
       "    <tr>\n",
       "      <th>min</th>\n",
       "      <td>1.00000</td>\n",
       "      <td>0.000000</td>\n",
       "    </tr>\n",
       "    <tr>\n",
       "      <th>25%</th>\n",
       "      <td>69715.25000</td>\n",
       "      <td>24.000000</td>\n",
       "    </tr>\n",
       "    <tr>\n",
       "      <th>50%</th>\n",
       "      <td>139429.50000</td>\n",
       "      <td>32.000000</td>\n",
       "    </tr>\n",
       "    <tr>\n",
       "      <th>75%</th>\n",
       "      <td>209143.75000</td>\n",
       "      <td>44.000000</td>\n",
       "    </tr>\n",
       "    <tr>\n",
       "      <th>max</th>\n",
       "      <td>278858.00000</td>\n",
       "      <td>244.000000</td>\n",
       "    </tr>\n",
       "  </tbody>\n",
       "</table>\n",
       "</div>"
      ],
      "text/plain": [
       "            User-ID            Age\n",
       "count  278858.00000  168096.000000\n",
       "mean   139429.50000      34.751434\n",
       "std     80499.51502      14.428097\n",
       "min         1.00000       0.000000\n",
       "25%     69715.25000      24.000000\n",
       "50%    139429.50000      32.000000\n",
       "75%    209143.75000      44.000000\n",
       "max    278858.00000     244.000000"
      ]
     },
     "execution_count": 101,
     "metadata": {},
     "output_type": "execute_result"
    }
   ],
   "source": [
    "users.describe()"
   ]
  },
  {
   "cell_type": "code",
   "execution_count": 102,
   "metadata": {},
   "outputs": [
    {
     "name": "stdout",
     "output_type": "stream",
     "text": [
      "<class 'pandas.core.frame.DataFrame'>\n",
      "RangeIndex: 278858 entries, 0 to 278857\n",
      "Data columns (total 3 columns):\n",
      " #   Column    Non-Null Count   Dtype  \n",
      "---  ------    --------------   -----  \n",
      " 0   User-ID   278858 non-null  int64  \n",
      " 1   Location  278858 non-null  object \n",
      " 2   Age       168096 non-null  float64\n",
      "dtypes: float64(1), int64(1), object(1)\n",
      "memory usage: 6.4+ MB\n"
     ]
    }
   ],
   "source": [
    "users.info()"
   ]
  },
  {
   "cell_type": "code",
   "execution_count": 103,
   "metadata": {},
   "outputs": [
    {
     "data": {
      "text/plain": [
       "ISBN                   object\n",
       "Book-Title             object\n",
       "Book-Author            object\n",
       "Year-Of-Publication    object\n",
       "Publisher              object\n",
       "Image-URL-S            object\n",
       "Image-URL-M            object\n",
       "Image-URL-L            object\n",
       "dtype: object"
      ]
     },
     "execution_count": 103,
     "metadata": {},
     "output_type": "execute_result"
    }
   ],
   "source": [
    "books.dtypes"
   ]
  },
  {
   "cell_type": "code",
   "execution_count": 104,
   "metadata": {},
   "outputs": [
    {
     "data": {
      "text/plain": [
       "(271360, 8)"
      ]
     },
     "execution_count": 104,
     "metadata": {},
     "output_type": "execute_result"
    }
   ],
   "source": [
    "books.shape"
   ]
  },
  {
   "cell_type": "code",
   "execution_count": 105,
   "metadata": {},
   "outputs": [
    {
     "data": {
      "text/plain": [
       "ISBN                   0\n",
       "Book-Title             0\n",
       "Book-Author            1\n",
       "Year-Of-Publication    0\n",
       "Publisher              2\n",
       "Image-URL-S            0\n",
       "Image-URL-M            0\n",
       "Image-URL-L            3\n",
       "dtype: int64"
      ]
     },
     "execution_count": 105,
     "metadata": {},
     "output_type": "execute_result"
    }
   ],
   "source": [
    "books.isnull().sum()"
   ]
  },
  {
   "cell_type": "code",
   "execution_count": 106,
   "metadata": {},
   "outputs": [],
   "source": [
    "# books['Book-Author'].mode().values\n",
    "# statistics.mode(books['Book-Author'])"
   ]
  },
  {
   "cell_type": "code",
   "execution_count": 107,
   "metadata": {},
   "outputs": [],
   "source": [
    "books['Book-Author'].replace(np.nan, statistics.mode(books['Book-Author']), inplace=True)"
   ]
  },
  {
   "cell_type": "code",
   "execution_count": 108,
   "metadata": {},
   "outputs": [],
   "source": [
    "books['Publisher'].replace(np.nan, statistics.mode(books['Publisher']), inplace=True)"
   ]
  },
  {
   "cell_type": "code",
   "execution_count": 109,
   "metadata": {},
   "outputs": [],
   "source": [
    "books['Image-URL-L'].fillna(method='bfill', inplace=True)"
   ]
  },
  {
   "cell_type": "code",
   "execution_count": 110,
   "metadata": {},
   "outputs": [
    {
     "data": {
      "text/plain": [
       "ISBN                   0\n",
       "Book-Title             0\n",
       "Book-Author            0\n",
       "Year-Of-Publication    0\n",
       "Publisher              0\n",
       "Image-URL-S            0\n",
       "Image-URL-M            0\n",
       "Image-URL-L            0\n",
       "dtype: int64"
      ]
     },
     "execution_count": 110,
     "metadata": {},
     "output_type": "execute_result"
    }
   ],
   "source": [
    "books.isnull().sum()"
   ]
  },
  {
   "cell_type": "code",
   "execution_count": 111,
   "metadata": {},
   "outputs": [
    {
     "data": {
      "text/plain": [
       "User-ID         int64\n",
       "ISBN           object\n",
       "Book-Rating     int64\n",
       "dtype: object"
      ]
     },
     "execution_count": 111,
     "metadata": {},
     "output_type": "execute_result"
    }
   ],
   "source": [
    "ratings.dtypes"
   ]
  },
  {
   "cell_type": "code",
   "execution_count": 112,
   "metadata": {},
   "outputs": [
    {
     "data": {
      "text/plain": [
       "(1149780, 3)"
      ]
     },
     "execution_count": 112,
     "metadata": {},
     "output_type": "execute_result"
    }
   ],
   "source": [
    "ratings.shape"
   ]
  },
  {
   "cell_type": "code",
   "execution_count": 113,
   "metadata": {},
   "outputs": [
    {
     "data": {
      "text/plain": [
       "User-ID        0\n",
       "ISBN           0\n",
       "Book-Rating    0\n",
       "dtype: int64"
      ]
     },
     "execution_count": 113,
     "metadata": {},
     "output_type": "execute_result"
    }
   ],
   "source": [
    "ratings.isnull().sum()"
   ]
  },
  {
   "cell_type": "code",
   "execution_count": 114,
   "metadata": {},
   "outputs": [
    {
     "data": {
      "text/plain": [
       "User-ID       int64\n",
       "Location     object\n",
       "Age         float64\n",
       "dtype: object"
      ]
     },
     "execution_count": 114,
     "metadata": {},
     "output_type": "execute_result"
    }
   ],
   "source": [
    "users.dtypes"
   ]
  },
  {
   "cell_type": "code",
   "execution_count": 115,
   "metadata": {},
   "outputs": [
    {
     "data": {
      "text/plain": [
       "(278858, 3)"
      ]
     },
     "execution_count": 115,
     "metadata": {},
     "output_type": "execute_result"
    }
   ],
   "source": [
    "users.shape"
   ]
  },
  {
   "cell_type": "code",
   "execution_count": 116,
   "metadata": {},
   "outputs": [
    {
     "data": {
      "text/plain": [
       "User-ID          0\n",
       "Location         0\n",
       "Age         110762\n",
       "dtype: int64"
      ]
     },
     "execution_count": 116,
     "metadata": {},
     "output_type": "execute_result"
    }
   ],
   "source": [
    "users.isnull().sum()"
   ]
  },
  {
   "cell_type": "code",
   "execution_count": 117,
   "metadata": {},
   "outputs": [],
   "source": [
    "users.dropna(inplace=True)\n",
    "# users['Age'].fillna(users['Age'].mean(axis=0))"
   ]
  },
  {
   "cell_type": "code",
   "execution_count": 118,
   "metadata": {},
   "outputs": [
    {
     "data": {
      "text/plain": [
       "(168096, 3)"
      ]
     },
     "execution_count": 118,
     "metadata": {},
     "output_type": "execute_result"
    }
   ],
   "source": [
    "users.shape"
   ]
  },
  {
   "cell_type": "code",
   "execution_count": 119,
   "metadata": {},
   "outputs": [
    {
     "data": {
      "text/html": [
       "<div>\n",
       "<style scoped>\n",
       "    .dataframe tbody tr th:only-of-type {\n",
       "        vertical-align: middle;\n",
       "    }\n",
       "\n",
       "    .dataframe tbody tr th {\n",
       "        vertical-align: top;\n",
       "    }\n",
       "\n",
       "    .dataframe thead th {\n",
       "        text-align: right;\n",
       "    }\n",
       "</style>\n",
       "<table border=\"1\" class=\"dataframe\">\n",
       "  <thead>\n",
       "    <tr style=\"text-align: right;\">\n",
       "      <th></th>\n",
       "      <th>User-ID</th>\n",
       "      <th>Location</th>\n",
       "      <th>Age</th>\n",
       "    </tr>\n",
       "  </thead>\n",
       "  <tbody>\n",
       "    <tr>\n",
       "      <th>1</th>\n",
       "      <td>2</td>\n",
       "      <td>stockton, california, usa</td>\n",
       "      <td>18.0</td>\n",
       "    </tr>\n",
       "    <tr>\n",
       "      <th>3</th>\n",
       "      <td>4</td>\n",
       "      <td>porto, v.n.gaia, portugal</td>\n",
       "      <td>17.0</td>\n",
       "    </tr>\n",
       "    <tr>\n",
       "      <th>5</th>\n",
       "      <td>6</td>\n",
       "      <td>santa monica, california, usa</td>\n",
       "      <td>61.0</td>\n",
       "    </tr>\n",
       "    <tr>\n",
       "      <th>9</th>\n",
       "      <td>10</td>\n",
       "      <td>albacete, wisconsin, spain</td>\n",
       "      <td>26.0</td>\n",
       "    </tr>\n",
       "    <tr>\n",
       "      <th>10</th>\n",
       "      <td>11</td>\n",
       "      <td>melbourne, victoria, australia</td>\n",
       "      <td>14.0</td>\n",
       "    </tr>\n",
       "  </tbody>\n",
       "</table>\n",
       "</div>"
      ],
      "text/plain": [
       "    User-ID                        Location   Age\n",
       "1         2       stockton, california, usa  18.0\n",
       "3         4       porto, v.n.gaia, portugal  17.0\n",
       "5         6   santa monica, california, usa  61.0\n",
       "9        10      albacete, wisconsin, spain  26.0\n",
       "10       11  melbourne, victoria, australia  14.0"
      ]
     },
     "execution_count": 119,
     "metadata": {},
     "output_type": "execute_result"
    }
   ],
   "source": [
    "users.head()"
   ]
  },
  {
   "cell_type": "markdown",
   "metadata": {},
   "source": [
    "## Fact-Finding"
   ]
  },
  {
   "cell_type": "markdown",
   "metadata": {},
   "source": [
    "You may need to apply the `groupby` method here. Here's a great introduction: [Pandas GroupBy: Your Guide to Grouping Data in Python](https://realpython.com/pandas-groupby/).\n",
    "### TODO: \n",
    "* Group the `ratings` dataframe by `User-ID` and check the `average` rating by user.\n",
    "* Group the `ratings` dataframe by `ISBN` and check the `average` rating each book has gotten.\n",
    "* Create a `Series` containing the number of books each user has read\n",
    "* Who are the top 10 most rated authors?\n",
    "* Who are the top 10 highest rated authors?"
   ]
  },
  {
   "cell_type": "code",
   "execution_count": 120,
   "metadata": {},
   "outputs": [
    {
     "data": {
      "text/html": [
       "<div>\n",
       "<style scoped>\n",
       "    .dataframe tbody tr th:only-of-type {\n",
       "        vertical-align: middle;\n",
       "    }\n",
       "\n",
       "    .dataframe tbody tr th {\n",
       "        vertical-align: top;\n",
       "    }\n",
       "\n",
       "    .dataframe thead th {\n",
       "        text-align: right;\n",
       "    }\n",
       "</style>\n",
       "<table border=\"1\" class=\"dataframe\">\n",
       "  <thead>\n",
       "    <tr style=\"text-align: right;\">\n",
       "      <th></th>\n",
       "      <th>User-ID</th>\n",
       "      <th>ISBN</th>\n",
       "      <th>Book-Rating</th>\n",
       "    </tr>\n",
       "  </thead>\n",
       "  <tbody>\n",
       "    <tr>\n",
       "      <th>0</th>\n",
       "      <td>276725</td>\n",
       "      <td>034545104X</td>\n",
       "      <td>0</td>\n",
       "    </tr>\n",
       "    <tr>\n",
       "      <th>1</th>\n",
       "      <td>276726</td>\n",
       "      <td>0155061224</td>\n",
       "      <td>5</td>\n",
       "    </tr>\n",
       "    <tr>\n",
       "      <th>2</th>\n",
       "      <td>276727</td>\n",
       "      <td>0446520802</td>\n",
       "      <td>0</td>\n",
       "    </tr>\n",
       "    <tr>\n",
       "      <th>3</th>\n",
       "      <td>276729</td>\n",
       "      <td>052165615X</td>\n",
       "      <td>3</td>\n",
       "    </tr>\n",
       "    <tr>\n",
       "      <th>4</th>\n",
       "      <td>276729</td>\n",
       "      <td>0521795028</td>\n",
       "      <td>6</td>\n",
       "    </tr>\n",
       "  </tbody>\n",
       "</table>\n",
       "</div>"
      ],
      "text/plain": [
       "   User-ID        ISBN  Book-Rating\n",
       "0   276725  034545104X            0\n",
       "1   276726  0155061224            5\n",
       "2   276727  0446520802            0\n",
       "3   276729  052165615X            3\n",
       "4   276729  0521795028            6"
      ]
     },
     "execution_count": 120,
     "metadata": {},
     "output_type": "execute_result"
    }
   ],
   "source": [
    "ratings.head()"
   ]
  },
  {
   "cell_type": "code",
   "execution_count": 121,
   "metadata": {},
   "outputs": [
    {
     "data": {
      "text/plain": [
       "User-ID\n",
       "2     0.000000\n",
       "7     0.000000\n",
       "8     2.166667\n",
       "9     2.000000\n",
       "10    3.000000\n",
       "Name: Book-Rating, dtype: float64"
      ]
     },
     "execution_count": 121,
     "metadata": {},
     "output_type": "execute_result"
    }
   ],
   "source": [
    "user_rating = ratings.groupby('User-ID')['Book-Rating']\n",
    "user_rating.mean().head()"
   ]
  },
  {
   "cell_type": "code",
   "execution_count": 122,
   "metadata": {},
   "outputs": [
    {
     "data": {
      "text/plain": [
       "ISBN\n",
       " 0330299891    3.0\n",
       " 0375404120    1.5\n",
       " 0586045007    0.0\n",
       " 9022906116    3.5\n",
       " 9032803328    0.0\n",
       "Name: Book-Rating, dtype: float64"
      ]
     },
     "execution_count": 122,
     "metadata": {},
     "output_type": "execute_result"
    }
   ],
   "source": [
    "avg_rating_by_user = ratings.groupby('ISBN')['Book-Rating']\n",
    "avg_rating_by_user.mean().head()"
   ]
  },
  {
   "cell_type": "code",
   "execution_count": 123,
   "metadata": {},
   "outputs": [
    {
     "data": {
      "text/plain": [
       "User-ID\n",
       "2          1\n",
       "7          1\n",
       "8         18\n",
       "9          3\n",
       "10         2\n",
       "          ..\n",
       "278846     2\n",
       "278849     4\n",
       "278851    23\n",
       "278852     1\n",
       "278854     8\n",
       "Name: Books per User, Length: 105283, dtype: int64"
      ]
     },
     "execution_count": 123,
     "metadata": {},
     "output_type": "execute_result"
    }
   ],
   "source": [
    "no_of_books_users_read = pd.Series(ratings.groupby(['User-ID'])['ISBN'].count(), name = 'Books per User')\n",
    "no_of_books_users_read"
   ]
  },
  {
   "cell_type": "code",
   "execution_count": 124,
   "metadata": {},
   "outputs": [
    {
     "data": {
      "text/plain": [
       "ISBN\n",
       "0971880107    2502\n",
       "0316666343    1295\n",
       "0385504209     883\n",
       "0060928336     732\n",
       "0312195516     723\n",
       "044023722X     647\n",
       "0679781587     639\n",
       "0142001740     615\n",
       "067976402X     614\n",
       "0671027360     586\n",
       "Name: Top 10 most Rated author, dtype: int64"
      ]
     },
     "execution_count": 124,
     "metadata": {},
     "output_type": "execute_result"
    }
   ],
   "source": [
    "rated_author = pd.Series(ratings.groupby(['ISBN'])['Book-Rating'].count(), name= 'Top 10 most Rated author')\n",
    "rated_author.sort_values(ascending=False).head(10)"
   ]
  },
  {
   "cell_type": "code",
   "execution_count": 125,
   "metadata": {},
   "outputs": [
    {
     "data": {
      "text/plain": [
       "ISBN\n",
       "0874477050    10.0\n",
       "561002010     10.0\n",
       "0590939874    10.0\n",
       "1570761914    10.0\n",
       "56500624X     10.0\n",
       "157076154X    10.0\n",
       "1570761175    10.0\n",
       "0373510365    10.0\n",
       "0393092526    10.0\n",
       "0590936026    10.0\n",
       "Name: Top 10 highest Rated author, dtype: float64"
      ]
     },
     "execution_count": 125,
     "metadata": {},
     "output_type": "execute_result"
    }
   ],
   "source": [
    "highest_rated = pd.Series(ratings.groupby(['ISBN'])['Book-Rating'].mean(), name= 'Top 10 highest Rated author')\n",
    "highest_rated.sort_values(ascending=False).head(10)"
   ]
  },
  {
   "cell_type": "markdown",
   "metadata": {},
   "source": [
    "## Engineering"
   ]
  },
  {
   "cell_type": "markdown",
   "metadata": {},
   "source": [
    "### TODO: \n",
    "* Apply the `to_datetime` method to the `Year-of-Publication` `inplace`. \n",
    "* Use the `drop` method to drop all the `Image` columns in the `books` dataframe.\n",
    "* Read this article - [How to Split String Column in Pandas into Multiple Columns](https://www.statology.org/pandas-split-column/) then apply the method to split the `location` column into three columns `city`, `state`, `country`.\n",
    "* Which other `str` methods are available in pandas? Try out one or two others. \n",
    "* Merge the `ratings` and `books` dataframe into one dataframe named `books_and_ratings`\n",
    "* Merge the `books_and_ratings` dataset and the `users` dataframe into a dataframe named `user_preferences`"
   ]
  },
  {
   "cell_type": "code",
   "execution_count": 126,
   "metadata": {},
   "outputs": [
    {
     "data": {
      "text/plain": [
       "0   2002-01-01\n",
       "1   2001-01-01\n",
       "2   1991-01-01\n",
       "3   1999-01-01\n",
       "4   1999-01-01\n",
       "Name: Year-Of-Publication, dtype: datetime64[ns]"
      ]
     },
     "execution_count": 126,
     "metadata": {},
     "output_type": "execute_result"
    }
   ],
   "source": [
    "books[\"Year-Of-Publication\"] = pd.to_datetime(books[\"Year-Of-Publication\"], format=\"%Y\", errors = 'coerce')\n",
    "books[\"Year-Of-Publication\"].head()"
   ]
  },
  {
   "cell_type": "code",
   "execution_count": 127,
   "metadata": {},
   "outputs": [],
   "source": [
    "image_cols = [\"Image-URL-S\", \"Image-URL-M\", \"Image-URL-L\"]\n",
    "books.drop(image_cols, axis = 1, inplace = True) "
   ]
  },
  {
   "cell_type": "code",
   "execution_count": 128,
   "metadata": {},
   "outputs": [
    {
     "data": {
      "text/html": [
       "<div>\n",
       "<style scoped>\n",
       "    .dataframe tbody tr th:only-of-type {\n",
       "        vertical-align: middle;\n",
       "    }\n",
       "\n",
       "    .dataframe tbody tr th {\n",
       "        vertical-align: top;\n",
       "    }\n",
       "\n",
       "    .dataframe thead th {\n",
       "        text-align: right;\n",
       "    }\n",
       "</style>\n",
       "<table border=\"1\" class=\"dataframe\">\n",
       "  <thead>\n",
       "    <tr style=\"text-align: right;\">\n",
       "      <th></th>\n",
       "      <th>ISBN</th>\n",
       "      <th>Book-Title</th>\n",
       "      <th>Book-Author</th>\n",
       "      <th>Year-Of-Publication</th>\n",
       "      <th>Publisher</th>\n",
       "    </tr>\n",
       "  </thead>\n",
       "  <tbody>\n",
       "    <tr>\n",
       "      <th>0</th>\n",
       "      <td>0195153448</td>\n",
       "      <td>Classical Mythology</td>\n",
       "      <td>Mark P. O. Morford</td>\n",
       "      <td>2002-01-01</td>\n",
       "      <td>Oxford University Press</td>\n",
       "    </tr>\n",
       "    <tr>\n",
       "      <th>1</th>\n",
       "      <td>0002005018</td>\n",
       "      <td>Clara Callan</td>\n",
       "      <td>Richard Bruce Wright</td>\n",
       "      <td>2001-01-01</td>\n",
       "      <td>HarperFlamingo Canada</td>\n",
       "    </tr>\n",
       "    <tr>\n",
       "      <th>2</th>\n",
       "      <td>0060973129</td>\n",
       "      <td>Decision in Normandy</td>\n",
       "      <td>Carlo D'Este</td>\n",
       "      <td>1991-01-01</td>\n",
       "      <td>HarperPerennial</td>\n",
       "    </tr>\n",
       "    <tr>\n",
       "      <th>3</th>\n",
       "      <td>0374157065</td>\n",
       "      <td>Flu: The Story of the Great Influenza Pandemic...</td>\n",
       "      <td>Gina Bari Kolata</td>\n",
       "      <td>1999-01-01</td>\n",
       "      <td>Farrar Straus Giroux</td>\n",
       "    </tr>\n",
       "    <tr>\n",
       "      <th>4</th>\n",
       "      <td>0393045218</td>\n",
       "      <td>The Mummies of Urumchi</td>\n",
       "      <td>E. J. W. Barber</td>\n",
       "      <td>1999-01-01</td>\n",
       "      <td>W. W. Norton &amp;amp; Company</td>\n",
       "    </tr>\n",
       "  </tbody>\n",
       "</table>\n",
       "</div>"
      ],
      "text/plain": [
       "         ISBN                                         Book-Title  \\\n",
       "0  0195153448                                Classical Mythology   \n",
       "1  0002005018                                       Clara Callan   \n",
       "2  0060973129                               Decision in Normandy   \n",
       "3  0374157065  Flu: The Story of the Great Influenza Pandemic...   \n",
       "4  0393045218                             The Mummies of Urumchi   \n",
       "\n",
       "            Book-Author Year-Of-Publication                   Publisher  \n",
       "0    Mark P. O. Morford          2002-01-01     Oxford University Press  \n",
       "1  Richard Bruce Wright          2001-01-01       HarperFlamingo Canada  \n",
       "2          Carlo D'Este          1991-01-01             HarperPerennial  \n",
       "3      Gina Bari Kolata          1999-01-01        Farrar Straus Giroux  \n",
       "4       E. J. W. Barber          1999-01-01  W. W. Norton &amp; Company  "
      ]
     },
     "execution_count": 128,
     "metadata": {},
     "output_type": "execute_result"
    }
   ],
   "source": [
    "books.head()"
   ]
  },
  {
   "cell_type": "code",
   "execution_count": 129,
   "metadata": {},
   "outputs": [
    {
     "data": {
      "text/html": [
       "<div>\n",
       "<style scoped>\n",
       "    .dataframe tbody tr th:only-of-type {\n",
       "        vertical-align: middle;\n",
       "    }\n",
       "\n",
       "    .dataframe tbody tr th {\n",
       "        vertical-align: top;\n",
       "    }\n",
       "\n",
       "    .dataframe thead th {\n",
       "        text-align: right;\n",
       "    }\n",
       "</style>\n",
       "<table border=\"1\" class=\"dataframe\">\n",
       "  <thead>\n",
       "    <tr style=\"text-align: right;\">\n",
       "      <th></th>\n",
       "      <th>User-ID</th>\n",
       "      <th>Age</th>\n",
       "      <th>city</th>\n",
       "      <th>state</th>\n",
       "      <th>country</th>\n",
       "    </tr>\n",
       "  </thead>\n",
       "  <tbody>\n",
       "    <tr>\n",
       "      <th>1</th>\n",
       "      <td>2</td>\n",
       "      <td>18.0</td>\n",
       "      <td>stockton</td>\n",
       "      <td>california</td>\n",
       "      <td>usa</td>\n",
       "    </tr>\n",
       "    <tr>\n",
       "      <th>3</th>\n",
       "      <td>4</td>\n",
       "      <td>17.0</td>\n",
       "      <td>porto</td>\n",
       "      <td>v.n.gaia</td>\n",
       "      <td>portugal</td>\n",
       "    </tr>\n",
       "    <tr>\n",
       "      <th>5</th>\n",
       "      <td>6</td>\n",
       "      <td>61.0</td>\n",
       "      <td>santa monica</td>\n",
       "      <td>california</td>\n",
       "      <td>usa</td>\n",
       "    </tr>\n",
       "    <tr>\n",
       "      <th>9</th>\n",
       "      <td>10</td>\n",
       "      <td>26.0</td>\n",
       "      <td>albacete</td>\n",
       "      <td>wisconsin</td>\n",
       "      <td>spain</td>\n",
       "    </tr>\n",
       "    <tr>\n",
       "      <th>10</th>\n",
       "      <td>11</td>\n",
       "      <td>14.0</td>\n",
       "      <td>melbourne</td>\n",
       "      <td>victoria</td>\n",
       "      <td>australia</td>\n",
       "    </tr>\n",
       "  </tbody>\n",
       "</table>\n",
       "</div>"
      ],
      "text/plain": [
       "    User-ID   Age          city        state     country\n",
       "1         2  18.0      stockton   california         usa\n",
       "3         4  17.0         porto     v.n.gaia    portugal\n",
       "5         6  61.0  santa monica   california         usa\n",
       "9        10  26.0      albacete    wisconsin       spain\n",
       "10       11  14.0     melbourne     victoria   australia"
      ]
     },
     "execution_count": 129,
     "metadata": {},
     "output_type": "execute_result"
    }
   ],
   "source": [
    "users[['city', 'state', 'country']] = users['Location'].str.split(',', 2, expand=True)\n",
    "users.drop(['Location'], axis = 1, inplace = True)\n",
    "users.head()\n"
   ]
  },
  {
   "cell_type": "code",
   "execution_count": 130,
   "metadata": {},
   "outputs": [],
   "source": [
    "# pd.Series('users'['city', 'state', 'country']).str.upper()\n"
   ]
  },
  {
   "cell_type": "code",
   "execution_count": 131,
   "metadata": {},
   "outputs": [
    {
     "data": {
      "text/html": [
       "<div>\n",
       "<style scoped>\n",
       "    .dataframe tbody tr th:only-of-type {\n",
       "        vertical-align: middle;\n",
       "    }\n",
       "\n",
       "    .dataframe tbody tr th {\n",
       "        vertical-align: top;\n",
       "    }\n",
       "\n",
       "    .dataframe thead th {\n",
       "        text-align: right;\n",
       "    }\n",
       "</style>\n",
       "<table border=\"1\" class=\"dataframe\">\n",
       "  <thead>\n",
       "    <tr style=\"text-align: right;\">\n",
       "      <th></th>\n",
       "      <th>User-ID</th>\n",
       "      <th>ISBN</th>\n",
       "      <th>Book-Rating</th>\n",
       "      <th>Book-Title</th>\n",
       "      <th>Book-Author</th>\n",
       "      <th>Year-Of-Publication</th>\n",
       "      <th>Publisher</th>\n",
       "    </tr>\n",
       "  </thead>\n",
       "  <tbody>\n",
       "    <tr>\n",
       "      <th>0</th>\n",
       "      <td>276725</td>\n",
       "      <td>034545104X</td>\n",
       "      <td>0</td>\n",
       "      <td>Flesh Tones: A Novel</td>\n",
       "      <td>M. J. Rose</td>\n",
       "      <td>2002-01-01</td>\n",
       "      <td>Ballantine Books</td>\n",
       "    </tr>\n",
       "    <tr>\n",
       "      <th>1</th>\n",
       "      <td>276726</td>\n",
       "      <td>0155061224</td>\n",
       "      <td>5</td>\n",
       "      <td>Rites of Passage</td>\n",
       "      <td>Judith Rae</td>\n",
       "      <td>2001-01-01</td>\n",
       "      <td>Heinle</td>\n",
       "    </tr>\n",
       "    <tr>\n",
       "      <th>2</th>\n",
       "      <td>276727</td>\n",
       "      <td>0446520802</td>\n",
       "      <td>0</td>\n",
       "      <td>The Notebook</td>\n",
       "      <td>Nicholas Sparks</td>\n",
       "      <td>1996-01-01</td>\n",
       "      <td>Warner Books</td>\n",
       "    </tr>\n",
       "    <tr>\n",
       "      <th>3</th>\n",
       "      <td>276729</td>\n",
       "      <td>052165615X</td>\n",
       "      <td>3</td>\n",
       "      <td>Help!: Level 1</td>\n",
       "      <td>Philip Prowse</td>\n",
       "      <td>1999-01-01</td>\n",
       "      <td>Cambridge University Press</td>\n",
       "    </tr>\n",
       "    <tr>\n",
       "      <th>4</th>\n",
       "      <td>276729</td>\n",
       "      <td>0521795028</td>\n",
       "      <td>6</td>\n",
       "      <td>The Amsterdam Connection : Level 4 (Cambridge ...</td>\n",
       "      <td>Sue Leather</td>\n",
       "      <td>2001-01-01</td>\n",
       "      <td>Cambridge University Press</td>\n",
       "    </tr>\n",
       "  </tbody>\n",
       "</table>\n",
       "</div>"
      ],
      "text/plain": [
       "   User-ID        ISBN  Book-Rating  \\\n",
       "0   276725  034545104X            0   \n",
       "1   276726  0155061224            5   \n",
       "2   276727  0446520802            0   \n",
       "3   276729  052165615X            3   \n",
       "4   276729  0521795028            6   \n",
       "\n",
       "                                          Book-Title      Book-Author  \\\n",
       "0                               Flesh Tones: A Novel       M. J. Rose   \n",
       "1                                   Rites of Passage       Judith Rae   \n",
       "2                                       The Notebook  Nicholas Sparks   \n",
       "3                                     Help!: Level 1    Philip Prowse   \n",
       "4  The Amsterdam Connection : Level 4 (Cambridge ...      Sue Leather   \n",
       "\n",
       "  Year-Of-Publication                   Publisher  \n",
       "0          2002-01-01            Ballantine Books  \n",
       "1          2001-01-01                      Heinle  \n",
       "2          1996-01-01                Warner Books  \n",
       "3          1999-01-01  Cambridge University Press  \n",
       "4          2001-01-01  Cambridge University Press  "
      ]
     },
     "execution_count": 131,
     "metadata": {},
     "output_type": "execute_result"
    }
   ],
   "source": [
    "books_and_ratings = pd.merge(ratings,books, how=\"left\", on='ISBN')\n",
    "books_and_ratings.head()"
   ]
  },
  {
   "cell_type": "code",
   "execution_count": 133,
   "metadata": {},
   "outputs": [
    {
     "data": {
      "text/html": [
       "<div>\n",
       "<style scoped>\n",
       "    .dataframe tbody tr th:only-of-type {\n",
       "        vertical-align: middle;\n",
       "    }\n",
       "\n",
       "    .dataframe tbody tr th {\n",
       "        vertical-align: top;\n",
       "    }\n",
       "\n",
       "    .dataframe thead th {\n",
       "        text-align: right;\n",
       "    }\n",
       "</style>\n",
       "<table border=\"1\" class=\"dataframe\">\n",
       "  <thead>\n",
       "    <tr style=\"text-align: right;\">\n",
       "      <th></th>\n",
       "      <th>User-ID</th>\n",
       "      <th>ISBN</th>\n",
       "      <th>Book-Rating</th>\n",
       "      <th>Book-Title</th>\n",
       "      <th>Book-Author</th>\n",
       "      <th>Year-Of-Publication</th>\n",
       "      <th>Publisher</th>\n",
       "      <th>Age</th>\n",
       "      <th>city</th>\n",
       "      <th>state</th>\n",
       "      <th>country</th>\n",
       "    </tr>\n",
       "  </thead>\n",
       "  <tbody>\n",
       "    <tr>\n",
       "      <th>0</th>\n",
       "      <td>276725</td>\n",
       "      <td>034545104X</td>\n",
       "      <td>0</td>\n",
       "      <td>Flesh Tones: A Novel</td>\n",
       "      <td>M. J. Rose</td>\n",
       "      <td>2002-01-01</td>\n",
       "      <td>Ballantine Books</td>\n",
       "      <td>NaN</td>\n",
       "      <td>NaN</td>\n",
       "      <td>NaN</td>\n",
       "      <td>NaN</td>\n",
       "    </tr>\n",
       "    <tr>\n",
       "      <th>1</th>\n",
       "      <td>276726</td>\n",
       "      <td>0155061224</td>\n",
       "      <td>5</td>\n",
       "      <td>Rites of Passage</td>\n",
       "      <td>Judith Rae</td>\n",
       "      <td>2001-01-01</td>\n",
       "      <td>Heinle</td>\n",
       "      <td>NaN</td>\n",
       "      <td>NaN</td>\n",
       "      <td>NaN</td>\n",
       "      <td>NaN</td>\n",
       "    </tr>\n",
       "    <tr>\n",
       "      <th>2</th>\n",
       "      <td>276727</td>\n",
       "      <td>0446520802</td>\n",
       "      <td>0</td>\n",
       "      <td>The Notebook</td>\n",
       "      <td>Nicholas Sparks</td>\n",
       "      <td>1996-01-01</td>\n",
       "      <td>Warner Books</td>\n",
       "      <td>16.0</td>\n",
       "      <td>h</td>\n",
       "      <td>new south wales</td>\n",
       "      <td>australia</td>\n",
       "    </tr>\n",
       "    <tr>\n",
       "      <th>3</th>\n",
       "      <td>276729</td>\n",
       "      <td>052165615X</td>\n",
       "      <td>3</td>\n",
       "      <td>Help!: Level 1</td>\n",
       "      <td>Philip Prowse</td>\n",
       "      <td>1999-01-01</td>\n",
       "      <td>Cambridge University Press</td>\n",
       "      <td>16.0</td>\n",
       "      <td>rijeka</td>\n",
       "      <td>n/a</td>\n",
       "      <td>croatia</td>\n",
       "    </tr>\n",
       "    <tr>\n",
       "      <th>4</th>\n",
       "      <td>276729</td>\n",
       "      <td>0521795028</td>\n",
       "      <td>6</td>\n",
       "      <td>The Amsterdam Connection : Level 4 (Cambridge ...</td>\n",
       "      <td>Sue Leather</td>\n",
       "      <td>2001-01-01</td>\n",
       "      <td>Cambridge University Press</td>\n",
       "      <td>16.0</td>\n",
       "      <td>rijeka</td>\n",
       "      <td>n/a</td>\n",
       "      <td>croatia</td>\n",
       "    </tr>\n",
       "  </tbody>\n",
       "</table>\n",
       "</div>"
      ],
      "text/plain": [
       "   User-ID        ISBN  Book-Rating  \\\n",
       "0   276725  034545104X            0   \n",
       "1   276726  0155061224            5   \n",
       "2   276727  0446520802            0   \n",
       "3   276729  052165615X            3   \n",
       "4   276729  0521795028            6   \n",
       "\n",
       "                                          Book-Title      Book-Author  \\\n",
       "0                               Flesh Tones: A Novel       M. J. Rose   \n",
       "1                                   Rites of Passage       Judith Rae   \n",
       "2                                       The Notebook  Nicholas Sparks   \n",
       "3                                     Help!: Level 1    Philip Prowse   \n",
       "4  The Amsterdam Connection : Level 4 (Cambridge ...      Sue Leather   \n",
       "\n",
       "  Year-Of-Publication                   Publisher   Age    city  \\\n",
       "0          2002-01-01            Ballantine Books   NaN     NaN   \n",
       "1          2001-01-01                      Heinle   NaN     NaN   \n",
       "2          1996-01-01                Warner Books  16.0       h   \n",
       "3          1999-01-01  Cambridge University Press  16.0  rijeka   \n",
       "4          2001-01-01  Cambridge University Press  16.0  rijeka   \n",
       "\n",
       "              state     country  \n",
       "0               NaN         NaN  \n",
       "1               NaN         NaN  \n",
       "2   new south wales   australia  \n",
       "3               n/a     croatia  \n",
       "4               n/a     croatia  "
      ]
     },
     "execution_count": 133,
     "metadata": {},
     "output_type": "execute_result"
    }
   ],
   "source": [
    "user_preferences = pd.merge(books_and_ratings,users, how=\"left\", on='User-ID')\n",
    "user_preferences.head()"
   ]
  },
  {
   "cell_type": "markdown",
   "metadata": {},
   "source": [
    "## Querying and Indexing "
   ]
  },
  {
   "cell_type": "markdown",
   "metadata": {},
   "source": [
    "Here's a useful article:\n",
    "* [The Unreasonable Effectiveness of Method Chaining in Pandas](https://towardsdatascience.com/the-unreasonable-effectiveness-of-method-chaining-in-pandas-15c2109e3c69)"
   ]
  },
  {
   "cell_type": "markdown",
   "metadata": {},
   "source": [
    "### TODO:\n",
    "* Use the `query` method to return rows from the `user_preferences` dataframe where `User-ID` is equal to `276822`\n",
    "* Repeat the same operation as before but this time return rows where `ISBN` is equal to `0345260317`\n",
    "* Return rows where the `ISBN` is equal to `0345260317` and `Book-Rating` is greater than 0.\n",
    "* Repeat all the operations performed above using the `loc` method rather than `query`\n",
    "* Time the operation of both methods (See [Profiling and Timing Code](https://jakevdp.github.io/PythonDataScienceHandbook/01.07-timing-and-profiling.html)). Which is faster?\n",
    "* Use the `to_dict` method to convert the output of query to dictionary. \n",
    "* Write a function that takes in a `dataframe` and a `user_id` and returns a dictionary of rows with matching user ids. Test your function using the `user_preferences` dataframe and any user id in the data."
   ]
  },
  {
   "cell_type": "code",
   "execution_count": 134,
   "metadata": {},
   "outputs": [
    {
     "data": {
      "text/html": [
       "<div>\n",
       "<style scoped>\n",
       "    .dataframe tbody tr th:only-of-type {\n",
       "        vertical-align: middle;\n",
       "    }\n",
       "\n",
       "    .dataframe tbody tr th {\n",
       "        vertical-align: top;\n",
       "    }\n",
       "\n",
       "    .dataframe thead th {\n",
       "        text-align: right;\n",
       "    }\n",
       "</style>\n",
       "<table border=\"1\" class=\"dataframe\">\n",
       "  <thead>\n",
       "    <tr style=\"text-align: right;\">\n",
       "      <th></th>\n",
       "      <th>User_ID</th>\n",
       "      <th>ISBN</th>\n",
       "      <th>Book_Rating</th>\n",
       "      <th>Book_Title</th>\n",
       "      <th>Book_Author</th>\n",
       "      <th>Year_Of_Publication</th>\n",
       "      <th>Publisher</th>\n",
       "      <th>Age</th>\n",
       "      <th>city</th>\n",
       "      <th>state</th>\n",
       "      <th>country</th>\n",
       "    </tr>\n",
       "  </thead>\n",
       "  <tbody>\n",
       "    <tr>\n",
       "      <th>0</th>\n",
       "      <td>276725</td>\n",
       "      <td>034545104X</td>\n",
       "      <td>0</td>\n",
       "      <td>Flesh Tones: A Novel</td>\n",
       "      <td>M. J. Rose</td>\n",
       "      <td>2002-01-01</td>\n",
       "      <td>Ballantine Books</td>\n",
       "      <td>NaN</td>\n",
       "      <td>NaN</td>\n",
       "      <td>NaN</td>\n",
       "      <td>NaN</td>\n",
       "    </tr>\n",
       "    <tr>\n",
       "      <th>1</th>\n",
       "      <td>276726</td>\n",
       "      <td>0155061224</td>\n",
       "      <td>5</td>\n",
       "      <td>Rites of Passage</td>\n",
       "      <td>Judith Rae</td>\n",
       "      <td>2001-01-01</td>\n",
       "      <td>Heinle</td>\n",
       "      <td>NaN</td>\n",
       "      <td>NaN</td>\n",
       "      <td>NaN</td>\n",
       "      <td>NaN</td>\n",
       "    </tr>\n",
       "    <tr>\n",
       "      <th>2</th>\n",
       "      <td>276727</td>\n",
       "      <td>0446520802</td>\n",
       "      <td>0</td>\n",
       "      <td>The Notebook</td>\n",
       "      <td>Nicholas Sparks</td>\n",
       "      <td>1996-01-01</td>\n",
       "      <td>Warner Books</td>\n",
       "      <td>16.0</td>\n",
       "      <td>h</td>\n",
       "      <td>new south wales</td>\n",
       "      <td>australia</td>\n",
       "    </tr>\n",
       "    <tr>\n",
       "      <th>3</th>\n",
       "      <td>276729</td>\n",
       "      <td>052165615X</td>\n",
       "      <td>3</td>\n",
       "      <td>Help!: Level 1</td>\n",
       "      <td>Philip Prowse</td>\n",
       "      <td>1999-01-01</td>\n",
       "      <td>Cambridge University Press</td>\n",
       "      <td>16.0</td>\n",
       "      <td>rijeka</td>\n",
       "      <td>n/a</td>\n",
       "      <td>croatia</td>\n",
       "    </tr>\n",
       "    <tr>\n",
       "      <th>4</th>\n",
       "      <td>276729</td>\n",
       "      <td>0521795028</td>\n",
       "      <td>6</td>\n",
       "      <td>The Amsterdam Connection : Level 4 (Cambridge ...</td>\n",
       "      <td>Sue Leather</td>\n",
       "      <td>2001-01-01</td>\n",
       "      <td>Cambridge University Press</td>\n",
       "      <td>16.0</td>\n",
       "      <td>rijeka</td>\n",
       "      <td>n/a</td>\n",
       "      <td>croatia</td>\n",
       "    </tr>\n",
       "  </tbody>\n",
       "</table>\n",
       "</div>"
      ],
      "text/plain": [
       "   User_ID        ISBN  Book_Rating  \\\n",
       "0   276725  034545104X            0   \n",
       "1   276726  0155061224            5   \n",
       "2   276727  0446520802            0   \n",
       "3   276729  052165615X            3   \n",
       "4   276729  0521795028            6   \n",
       "\n",
       "                                          Book_Title      Book_Author  \\\n",
       "0                               Flesh Tones: A Novel       M. J. Rose   \n",
       "1                                   Rites of Passage       Judith Rae   \n",
       "2                                       The Notebook  Nicholas Sparks   \n",
       "3                                     Help!: Level 1    Philip Prowse   \n",
       "4  The Amsterdam Connection : Level 4 (Cambridge ...      Sue Leather   \n",
       "\n",
       "  Year_Of_Publication                   Publisher   Age    city  \\\n",
       "0          2002-01-01            Ballantine Books   NaN     NaN   \n",
       "1          2001-01-01                      Heinle   NaN     NaN   \n",
       "2          1996-01-01                Warner Books  16.0       h   \n",
       "3          1999-01-01  Cambridge University Press  16.0  rijeka   \n",
       "4          2001-01-01  Cambridge University Press  16.0  rijeka   \n",
       "\n",
       "              state     country  \n",
       "0               NaN         NaN  \n",
       "1               NaN         NaN  \n",
       "2   new south wales   australia  \n",
       "3               n/a     croatia  \n",
       "4               n/a     croatia  "
      ]
     },
     "execution_count": 134,
     "metadata": {},
     "output_type": "execute_result"
    }
   ],
   "source": [
    "user_preferences.columns =[column.replace(\"-\", \"_\") for column in user_preferences.columns]\n",
    "user_preferences.head()"
   ]
  },
  {
   "cell_type": "code",
   "execution_count": 135,
   "metadata": {},
   "outputs": [],
   "source": [
    "user_preference_1 = user_preferences.copy()\n",
    "user_preference_2 = user_preferences.copy()\n",
    "user_preference_3 = user_preferences.copy()"
   ]
  },
  {
   "cell_type": "code",
   "execution_count": 161,
   "metadata": {},
   "outputs": [
    {
     "name": "stdout",
     "output_type": "stream",
     "text": [
      "55.9 ns ± 1.42 ns per loop (mean ± std. dev. of 7 runs, 10000000 loops each)\n"
     ]
    }
   ],
   "source": [
    "user_preference_1.query('User_ID == 276822', inplace = True)\n",
    "user_preference_1.head()\n",
    "%timeit user_preference_1"
   ]
  },
  {
   "cell_type": "code",
   "execution_count": 168,
   "metadata": {},
   "outputs": [
    {
     "data": {
      "text/plain": [
       "{'User_ID': {133: 276822,\n",
       "  134: 276822,\n",
       "  135: 276822,\n",
       "  136: 276822,\n",
       "  137: 276822,\n",
       "  138: 276822,\n",
       "  139: 276822,\n",
       "  140: 276822,\n",
       "  141: 276822,\n",
       "  142: 276822,\n",
       "  143: 276822,\n",
       "  144: 276822,\n",
       "  145: 276822,\n",
       "  146: 276822,\n",
       "  147: 276822,\n",
       "  148: 276822},\n",
       " 'ISBN': {133: '0060096195',\n",
       "  134: '0141310340',\n",
       "  135: '0142302198',\n",
       "  136: '0156006065',\n",
       "  137: '0375821813',\n",
       "  138: '038076041X',\n",
       "  139: '0439087597',\n",
       "  140: '0439401399',\n",
       "  141: '0552546933',\n",
       "  142: '0689804458',\n",
       "  143: '0699854289',\n",
       "  144: '0786812508',\n",
       "  145: '0786817070',\n",
       "  146: '0805057706',\n",
       "  147: '1551925060',\n",
       "  148: '1573248533'},\n",
       " 'Book_Rating': {133: 10,\n",
       "  134: 9,\n",
       "  135: 10,\n",
       "  136: 9,\n",
       "  137: 9,\n",
       "  138: 10,\n",
       "  139: 0,\n",
       "  140: 6,\n",
       "  141: 9,\n",
       "  142: 8,\n",
       "  143: 10,\n",
       "  144: 9,\n",
       "  145: 10,\n",
       "  146: 10,\n",
       "  147: 8,\n",
       "  148: 10},\n",
       " 'Book_Title': {133: 'The Boy Next Door',\n",
       "  134: 'Skin and Other Stories (Now in Speak!)',\n",
       "  135: 'Growing Wings',\n",
       "  136: 'The Riddle of Scheherazade: And Other Amazing Puzzles',\n",
       "  137: 'Hoot (Newbery Honor Book)',\n",
       "  138: \"A Kid's Guide to How to Save the Planet (Camelot world)\",\n",
       "  139: 'The Last Book in the Universe',\n",
       "  140: 'The Contest',\n",
       "  141: nan,\n",
       "  142: 'A String in the Harp',\n",
       "  143: nan,\n",
       "  144: 'The Sandy Bottom Orchestra',\n",
       "  145: 'Artemis Fowl (Artemis Fowl, Book 1)',\n",
       "  146: 'The Number Devil: A Mathematical Adventure',\n",
       "  147: 'Surviving Sam',\n",
       "  148: 'Random Acts of Kindness'},\n",
       " 'Book_Author': {133: 'Meggin Cabot',\n",
       "  134: 'Roald Dahl',\n",
       "  135: 'Laurel Winter',\n",
       "  136: 'Raymond Smullyan',\n",
       "  137: 'CARL HIAASEN',\n",
       "  138: 'Billy Goodman',\n",
       "  139: 'Rodman Philbrick',\n",
       "  140: 'Gordon Korman',\n",
       "  141: nan,\n",
       "  142: 'Nancy Bond',\n",
       "  143: nan,\n",
       "  144: 'Jenny Nilson',\n",
       "  145: 'Eoin Colfer',\n",
       "  146: 'Hans Magnus Enzensberger',\n",
       "  147: 'Karen Rivers',\n",
       "  148: 'Dawna Markova'},\n",
       " 'Year_Of_Publication': {133: Timestamp('2002-01-01 00:00:00'),\n",
       "  134: Timestamp('2002-01-01 00:00:00'),\n",
       "  135: Timestamp('2002-01-01 00:00:00'),\n",
       "  136: Timestamp('1998-01-01 00:00:00'),\n",
       "  137: Timestamp('2002-01-01 00:00:00'),\n",
       "  138: Timestamp('1990-01-01 00:00:00'),\n",
       "  139: Timestamp('2002-01-01 00:00:00'),\n",
       "  140: Timestamp('2002-01-01 00:00:00'),\n",
       "  141: NaT,\n",
       "  142: Timestamp('1996-01-01 00:00:00'),\n",
       "  143: NaT,\n",
       "  144: Timestamp('1998-01-01 00:00:00'),\n",
       "  145: Timestamp('2002-01-01 00:00:00'),\n",
       "  146: Timestamp('1998-01-01 00:00:00'),\n",
       "  147: Timestamp('2002-01-01 00:00:00'),\n",
       "  148: Timestamp('2002-01-01 00:00:00')},\n",
       " 'Publisher': {133: 'Avon Trade',\n",
       "  134: 'Puffin Books',\n",
       "  135: 'Puffin Books',\n",
       "  136: 'Harvest Books',\n",
       "  137: 'Knopf Books for Young Readers',\n",
       "  138: 'Harpercollins Juvenile Books',\n",
       "  139: 'Scholastic Signature',\n",
       "  140: 'Scholastic',\n",
       "  141: nan,\n",
       "  142: 'Aladdin',\n",
       "  143: nan,\n",
       "  144: 'Hyperion Books for Children',\n",
       "  145: 'Miramax Kids',\n",
       "  146: 'Henry Holt &amp; Company',\n",
       "  147: 'Polestar Book Publishers',\n",
       "  148: 'Conari Press'},\n",
       " 'Age': {133: 11.0,\n",
       "  134: 11.0,\n",
       "  135: 11.0,\n",
       "  136: 11.0,\n",
       "  137: 11.0,\n",
       "  138: 11.0,\n",
       "  139: 11.0,\n",
       "  140: 11.0,\n",
       "  141: 11.0,\n",
       "  142: 11.0,\n",
       "  143: 11.0,\n",
       "  144: 11.0,\n",
       "  145: 11.0,\n",
       "  146: 11.0,\n",
       "  147: 11.0,\n",
       "  148: 11.0},\n",
       " 'city': {133: 'calgary',\n",
       "  134: 'calgary',\n",
       "  135: 'calgary',\n",
       "  136: 'calgary',\n",
       "  137: 'calgary',\n",
       "  138: 'calgary',\n",
       "  139: 'calgary',\n",
       "  140: 'calgary',\n",
       "  141: 'calgary',\n",
       "  142: 'calgary',\n",
       "  143: 'calgary',\n",
       "  144: 'calgary',\n",
       "  145: 'calgary',\n",
       "  146: 'calgary',\n",
       "  147: 'calgary',\n",
       "  148: 'calgary'},\n",
       " 'state': {133: ' alberta',\n",
       "  134: ' alberta',\n",
       "  135: ' alberta',\n",
       "  136: ' alberta',\n",
       "  137: ' alberta',\n",
       "  138: ' alberta',\n",
       "  139: ' alberta',\n",
       "  140: ' alberta',\n",
       "  141: ' alberta',\n",
       "  142: ' alberta',\n",
       "  143: ' alberta',\n",
       "  144: ' alberta',\n",
       "  145: ' alberta',\n",
       "  146: ' alberta',\n",
       "  147: ' alberta',\n",
       "  148: ' alberta'},\n",
       " 'country': {133: ' canada',\n",
       "  134: ' canada',\n",
       "  135: ' canada',\n",
       "  136: ' canada',\n",
       "  137: ' canada',\n",
       "  138: ' canada',\n",
       "  139: ' canada',\n",
       "  140: ' canada',\n",
       "  141: ' canada',\n",
       "  142: ' canada',\n",
       "  143: ' canada',\n",
       "  144: ' canada',\n",
       "  145: ' canada',\n",
       "  146: ' canada',\n",
       "  147: ' canada',\n",
       "  148: ' canada'}}"
      ]
     },
     "execution_count": 168,
     "metadata": {},
     "output_type": "execute_result"
    }
   ],
   "source": [
    "user_preference_1.to_dict('dict')"
   ]
  },
  {
   "cell_type": "code",
   "execution_count": 162,
   "metadata": {},
   "outputs": [
    {
     "name": "stdout",
     "output_type": "stream",
     "text": [
      "52.4 µs ± 8.33 µs per loop (mean ± std. dev. of 7 runs, 10000 loops each)\n"
     ]
    }
   ],
   "source": [
    "user_preference_2.query('ISBN == \"0345260317\"', inplace = True)\n",
    "%timeit user_preference_2.head()\n"
   ]
  },
  {
   "cell_type": "code",
   "execution_count": 169,
   "metadata": {},
   "outputs": [
    {
     "data": {
      "text/plain": [
       "{'User_ID': {9636: 67,\n",
       "  143578: 32195,\n",
       "  146270: 32773,\n",
       "  274520: 64010,\n",
       "  400554: 96440,\n",
       "  430727: 102967,\n",
       "  541943: 130474,\n",
       "  628210: 152435,\n",
       "  666954: 162155,\n",
       "  764047: 184891,\n",
       "  808014: 196160,\n",
       "  839812: 203369,\n",
       "  999961: 240144,\n",
       "  1029081: 245988,\n",
       "  1069333: 255489},\n",
       " 'ISBN': {9636: '0345260317',\n",
       "  143578: '0345260317',\n",
       "  146270: '0345260317',\n",
       "  274520: '0345260317',\n",
       "  400554: '0345260317',\n",
       "  430727: '0345260317',\n",
       "  541943: '0345260317',\n",
       "  628210: '0345260317',\n",
       "  666954: '0345260317',\n",
       "  764047: '0345260317',\n",
       "  808014: '0345260317',\n",
       "  839812: '0345260317',\n",
       "  999961: '0345260317',\n",
       "  1029081: '0345260317',\n",
       "  1069333: '0345260317'},\n",
       " 'Book_Rating': {9636: 0,\n",
       "  143578: 0,\n",
       "  146270: 0,\n",
       "  274520: 7,\n",
       "  400554: 0,\n",
       "  430727: 0,\n",
       "  541943: 0,\n",
       "  628210: 7,\n",
       "  666954: 0,\n",
       "  764047: 0,\n",
       "  808014: 0,\n",
       "  839812: 0,\n",
       "  999961: 0,\n",
       "  1029081: 3,\n",
       "  1069333: 0},\n",
       " 'Book_Title': {9636: 'The Dragons of Eden: Speculations on the Evolution of Human Intelligence',\n",
       "  143578: 'The Dragons of Eden: Speculations on the Evolution of Human Intelligence',\n",
       "  146270: 'The Dragons of Eden: Speculations on the Evolution of Human Intelligence',\n",
       "  274520: 'The Dragons of Eden: Speculations on the Evolution of Human Intelligence',\n",
       "  400554: 'The Dragons of Eden: Speculations on the Evolution of Human Intelligence',\n",
       "  430727: 'The Dragons of Eden: Speculations on the Evolution of Human Intelligence',\n",
       "  541943: 'The Dragons of Eden: Speculations on the Evolution of Human Intelligence',\n",
       "  628210: 'The Dragons of Eden: Speculations on the Evolution of Human Intelligence',\n",
       "  666954: 'The Dragons of Eden: Speculations on the Evolution of Human Intelligence',\n",
       "  764047: 'The Dragons of Eden: Speculations on the Evolution of Human Intelligence',\n",
       "  808014: 'The Dragons of Eden: Speculations on the Evolution of Human Intelligence',\n",
       "  839812: 'The Dragons of Eden: Speculations on the Evolution of Human Intelligence',\n",
       "  999961: 'The Dragons of Eden: Speculations on the Evolution of Human Intelligence',\n",
       "  1029081: 'The Dragons of Eden: Speculations on the Evolution of Human Intelligence',\n",
       "  1069333: 'The Dragons of Eden: Speculations on the Evolution of Human Intelligence'},\n",
       " 'Book_Author': {9636: 'Carl Sagan',\n",
       "  143578: 'Carl Sagan',\n",
       "  146270: 'Carl Sagan',\n",
       "  274520: 'Carl Sagan',\n",
       "  400554: 'Carl Sagan',\n",
       "  430727: 'Carl Sagan',\n",
       "  541943: 'Carl Sagan',\n",
       "  628210: 'Carl Sagan',\n",
       "  666954: 'Carl Sagan',\n",
       "  764047: 'Carl Sagan',\n",
       "  808014: 'Carl Sagan',\n",
       "  839812: 'Carl Sagan',\n",
       "  999961: 'Carl Sagan',\n",
       "  1029081: 'Carl Sagan',\n",
       "  1069333: 'Carl Sagan'},\n",
       " 'Year_Of_Publication': {9636: Timestamp('1978-01-01 00:00:00'),\n",
       "  143578: Timestamp('1978-01-01 00:00:00'),\n",
       "  146270: Timestamp('1978-01-01 00:00:00'),\n",
       "  274520: Timestamp('1978-01-01 00:00:00'),\n",
       "  400554: Timestamp('1978-01-01 00:00:00'),\n",
       "  430727: Timestamp('1978-01-01 00:00:00'),\n",
       "  541943: Timestamp('1978-01-01 00:00:00'),\n",
       "  628210: Timestamp('1978-01-01 00:00:00'),\n",
       "  666954: Timestamp('1978-01-01 00:00:00'),\n",
       "  764047: Timestamp('1978-01-01 00:00:00'),\n",
       "  808014: Timestamp('1978-01-01 00:00:00'),\n",
       "  839812: Timestamp('1978-01-01 00:00:00'),\n",
       "  999961: Timestamp('1978-01-01 00:00:00'),\n",
       "  1029081: Timestamp('1978-01-01 00:00:00'),\n",
       "  1069333: Timestamp('1978-01-01 00:00:00')},\n",
       " 'Publisher': {9636: 'Ballantine Books',\n",
       "  143578: 'Ballantine Books',\n",
       "  146270: 'Ballantine Books',\n",
       "  274520: 'Ballantine Books',\n",
       "  400554: 'Ballantine Books',\n",
       "  430727: 'Ballantine Books',\n",
       "  541943: 'Ballantine Books',\n",
       "  628210: 'Ballantine Books',\n",
       "  666954: 'Ballantine Books',\n",
       "  764047: 'Ballantine Books',\n",
       "  808014: 'Ballantine Books',\n",
       "  839812: 'Ballantine Books',\n",
       "  999961: 'Ballantine Books',\n",
       "  1029081: 'Ballantine Books',\n",
       "  1069333: 'Ballantine Books'},\n",
       " 'Age': {9636: 43.0,\n",
       "  143578: nan,\n",
       "  146270: 28.0,\n",
       "  274520: nan,\n",
       "  400554: 29.0,\n",
       "  430727: 54.0,\n",
       "  541943: 33.0,\n",
       "  628210: 40.0,\n",
       "  666954: 57.0,\n",
       "  764047: 50.0,\n",
       "  808014: 22.0,\n",
       "  839812: nan,\n",
       "  999961: 34.0,\n",
       "  1029081: nan,\n",
       "  1069333: nan},\n",
       " 'city': {9636: 'framingham',\n",
       "  143578: nan,\n",
       "  146270: 'olathe',\n",
       "  274520: nan,\n",
       "  400554: 'rochester',\n",
       "  430727: 'olympia',\n",
       "  541943: 'nashville',\n",
       "  628210: 'indianapolis',\n",
       "  666954: 'federal way',\n",
       "  764047: 'yucaipa',\n",
       "  808014: 'auburn',\n",
       "  839812: nan,\n",
       "  999961: 'muskego',\n",
       "  1029081: nan,\n",
       "  1069333: nan},\n",
       " 'state': {9636: ' massachusetts',\n",
       "  143578: nan,\n",
       "  146270: ' kansas',\n",
       "  274520: nan,\n",
       "  400554: ' new york',\n",
       "  430727: ' washington',\n",
       "  541943: ' tennessee',\n",
       "  628210: ' indiana',\n",
       "  666954: ' washington',\n",
       "  764047: ' california',\n",
       "  808014: ' alabama',\n",
       "  839812: nan,\n",
       "  999961: ' wisconsin',\n",
       "  1029081: nan,\n",
       "  1069333: nan},\n",
       " 'country': {9636: ' usa',\n",
       "  143578: nan,\n",
       "  146270: ' usa',\n",
       "  274520: nan,\n",
       "  400554: ' usa',\n",
       "  430727: ' usa',\n",
       "  541943: ' usa',\n",
       "  628210: ' usa',\n",
       "  666954: ' usa',\n",
       "  764047: ' usa',\n",
       "  808014: ' usa',\n",
       "  839812: nan,\n",
       "  999961: ' usa',\n",
       "  1029081: nan,\n",
       "  1069333: nan}}"
      ]
     },
     "execution_count": 169,
     "metadata": {},
     "output_type": "execute_result"
    }
   ],
   "source": [
    "user_preference_2.to_dict('dict')"
   ]
  },
  {
   "cell_type": "code",
   "execution_count": 163,
   "metadata": {},
   "outputs": [
    {
     "name": "stdout",
     "output_type": "stream",
     "text": [
      "43.6 ns ± 1.17 ns per loop (mean ± std. dev. of 7 runs, 10000000 loops each)\n"
     ]
    }
   ],
   "source": [
    "user_preference_3.query('ISBN == \"0345260317\" and Book_Rating > 0', inplace = True)\n",
    "%timeit user_preference_3"
   ]
  },
  {
   "cell_type": "code",
   "execution_count": 170,
   "metadata": {},
   "outputs": [
    {
     "data": {
      "text/plain": [
       "{'User_ID': {274520: 64010, 628210: 152435, 1029081: 245988},\n",
       " 'ISBN': {274520: '0345260317', 628210: '0345260317', 1029081: '0345260317'},\n",
       " 'Book_Rating': {274520: 7, 628210: 7, 1029081: 3},\n",
       " 'Book_Title': {274520: 'The Dragons of Eden: Speculations on the Evolution of Human Intelligence',\n",
       "  628210: 'The Dragons of Eden: Speculations on the Evolution of Human Intelligence',\n",
       "  1029081: 'The Dragons of Eden: Speculations on the Evolution of Human Intelligence'},\n",
       " 'Book_Author': {274520: 'Carl Sagan',\n",
       "  628210: 'Carl Sagan',\n",
       "  1029081: 'Carl Sagan'},\n",
       " 'Year_Of_Publication': {274520: Timestamp('1978-01-01 00:00:00'),\n",
       "  628210: Timestamp('1978-01-01 00:00:00'),\n",
       "  1029081: Timestamp('1978-01-01 00:00:00')},\n",
       " 'Publisher': {274520: 'Ballantine Books',\n",
       "  628210: 'Ballantine Books',\n",
       "  1029081: 'Ballantine Books'},\n",
       " 'Age': {274520: nan, 628210: 40.0, 1029081: nan},\n",
       " 'city': {274520: nan, 628210: 'indianapolis', 1029081: nan},\n",
       " 'state': {274520: nan, 628210: ' indiana', 1029081: nan},\n",
       " 'country': {274520: nan, 628210: ' usa', 1029081: nan}}"
      ]
     },
     "execution_count": 170,
     "metadata": {},
     "output_type": "execute_result"
    }
   ],
   "source": [
    "user_preference_3.to_dict('dict')"
   ]
  },
  {
   "cell_type": "code",
   "execution_count": 164,
   "metadata": {},
   "outputs": [
    {
     "name": "stdout",
     "output_type": "stream",
     "text": [
      "4.91 ms ± 780 µs per loop (mean ± std. dev. of 7 runs, 1 loop each)\n"
     ]
    }
   ],
   "source": [
    "user_preference = user_preferences.set_index('User_ID')\n",
    "%timeit user_preference.loc[276822, :].head()"
   ]
  },
  {
   "cell_type": "code",
   "execution_count": 165,
   "metadata": {},
   "outputs": [
    {
     "name": "stdout",
     "output_type": "stream",
     "text": [
      "54.1 ms ± 2.12 ms per loop (mean ± std. dev. of 7 runs, 1 loop each)\n"
     ]
    }
   ],
   "source": [
    "user_preference = user_preferences.set_index('ISBN')\n",
    "%timeit user_preference.loc['0345260317', :].head()"
   ]
  },
  {
   "cell_type": "code",
   "execution_count": 156,
   "metadata": {},
   "outputs": [],
   "source": [
    "# user_preference = user_preferences.set_index('ISBN', 'Book_Rating > 0')\n",
    "# user_preference.loc['0345260317', :].head()"
   ]
  },
  {
   "cell_type": "markdown",
   "metadata": {},
   "source": [
    "The .loc runs faster"
   ]
  },
  {
   "cell_type": "markdown",
   "metadata": {},
   "source": [
    "### Hierarchical Indexing"
   ]
  },
  {
   "cell_type": "markdown",
   "metadata": {},
   "source": [
    "Study the [Hierarchical Indexing](https://jakevdp.github.io/PythonDataScienceHandbook/03.05-hierarchical-indexing.html) chapter from Python Data Science Handbook."
   ]
  },
  {
   "cell_type": "markdown",
   "metadata": {},
   "source": [
    "### TODO\n",
    "* Include 3 or 4 of your observations in the `Comments` below after exploring the dataset"
   ]
  },
  {
   "cell_type": "markdown",
   "metadata": {},
   "source": [
    "### Comments\n",
    "* MultiIndex - We can create a multi-index from tuples.  MultiIndex contains multiple levels of indexing and multiple labeling\n",
    "* reindex - and it can be reindexed\n",
    "* Unstack() - \n",
    "* Stack()"
   ]
  },
  {
   "cell_type": "markdown",
   "metadata": {},
   "source": []
  }
 ],
 "metadata": {
  "interpreter": {
   "hash": "dc2b8cbe4cd0d9ce50c5bbd3cbd12c456bd1410c52ad099bce11e97025024684"
  },
  "kernelspec": {
   "display_name": "Python 3.8.9 64-bit ('webscraping_env': venv)",
   "name": "python3"
  },
  "language_info": {
   "codemirror_mode": {
    "name": "ipython",
    "version": 3
   },
   "file_extension": ".py",
   "mimetype": "text/x-python",
   "name": "python",
   "nbconvert_exporter": "python",
   "pygments_lexer": "ipython3",
   "version": "3.8.9"
  },
  "orig_nbformat": 4
 },
 "nbformat": 4,
 "nbformat_minor": 2
}
